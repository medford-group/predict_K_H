{
 "cells": [
  {
   "cell_type": "code",
   "execution_count": null,
   "metadata": {},
   "outputs": [],
   "source": [
    "import numpy as np\n",
    "import pandas as pd\n",
    "import pylab as plt"
   ]
  },
  {
   "cell_type": "code",
   "execution_count": null,
   "metadata": {},
   "outputs": [],
   "source": [
    "from sklearn.metrics import mean_absolute_error, r2_score\n",
    "from scipy.stats import spearmanr"
   ]
  },
  {
   "cell_type": "code",
   "execution_count": null,
   "metadata": {},
   "outputs": [],
   "source": [
    "R = 8.31446261815324\n",
    "T = 300"
   ]
  },
  {
   "cell_type": "code",
   "execution_count": null,
   "metadata": {},
   "outputs": [],
   "source": [
    "training_r = []\n",
    "training_mae = []\n",
    "training_S = []\n",
    "\n",
    "test_r = []\n",
    "test_mae = []\n",
    "test_S = []\n",
    "\n",
    "for i in range(1, 11):\n",
    "    tr = pd.read_csv('{}/H_training.tsv'.format(i), sep = '\\t')\n",
    "    training_r.append(r2_score(tr.H, tr.predict))\n",
    "    training_mae.append(mean_absolute_error(tr.H, tr.predict))\n",
    "    training_S.append(spearmanr(tr.H, tr.predict)[0])\n",
    "    \n",
    "    te = pd.read_csv('{}/H_test.tsv'.format(i), sep = '\\t')\n",
    "    test_r.append(r2_score(te.H, te.predict))\n",
    "    test_mae.append(mean_absolute_error(te.H, te.predict))\n",
    "    test_S.append(spearmanr(te.H, te.predict)[0])\n",
    "    \n",
    "training_r = np.array(training_r)\n",
    "training_mae = np.array(training_mae)\n",
    "training_S = np.array(training_S)\n",
    "\n",
    "test_r = np.array(test_r)\n",
    "test_mae = np.array(test_mae)\n",
    "test_S = np.array(test_S)"
   ]
  },
  {
   "cell_type": "code",
   "execution_count": null,
   "metadata": {
    "scrolled": false
   },
   "outputs": [],
   "source": [
    "print(training_r.mean())\n",
    "print(training_r.std())\n",
    "print()\n",
    "\n",
    "print(training_mae.mean())\n",
    "print(training_mae.std())\n",
    "print()\n",
    "\n",
    "print(training_S.mean())\n",
    "print(training_S.std())"
   ]
  },
  {
   "cell_type": "code",
   "execution_count": null,
   "metadata": {},
   "outputs": [],
   "source": [
    "print(test_r.mean())\n",
    "print(test_r.std())\n",
    "print()\n",
    "\n",
    "print(test_mae.mean())\n",
    "print(test_mae.std())\n",
    "print()\n",
    "\n",
    "print(test_S.mean())\n",
    "print(test_S.std())"
   ]
  }
 ],
 "metadata": {
  "kernelspec": {
   "display_name": "Python 3",
   "language": "python",
   "name": "python3"
  },
  "language_info": {
   "codemirror_mode": {
    "name": "ipython",
    "version": 3
   },
   "file_extension": ".py",
   "mimetype": "text/x-python",
   "name": "python",
   "nbconvert_exporter": "python",
   "pygments_lexer": "ipython3",
   "version": "3.7.9"
  }
 },
 "nbformat": 4,
 "nbformat_minor": 4
}
