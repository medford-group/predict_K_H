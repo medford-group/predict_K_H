{
 "cells": [
  {
   "cell_type": "code",
   "execution_count": null,
   "metadata": {},
   "outputs": [],
   "source": [
    "import numpy as np\n",
    "import pandas as pd\n",
    "import pylab as plt"
   ]
  },
  {
   "cell_type": "code",
   "execution_count": null,
   "metadata": {
    "scrolled": true
   },
   "outputs": [],
   "source": [
    "fig, axes = plt.subplots(1, 4, figsize = (16, 4), dpi = 300)\n",
    "axes = axes.ravel()\n",
    "\n",
    "for i in range(1, 5):\n",
    "    te = pd.read_csv('{}/K_test.tsv'.format(i), sep = '\\t')\n",
    "    GCMC = te.K\n",
    "    ML = te.predict\n",
    "    \n",
    "    axes[i - 1].tick_params(axis = 'x', labelsize = 8)\n",
    "    axes[i - 1].tick_params(axis = 'y', labelsize = 8)\n",
    "    \n",
    "    axes[i - 1].plot([1e-60, 1e15], [1e-60, 1e15], 'k-', lw = 0.8)\n",
    "    axes[i - 1].scatter(GCMC, ML, alpha = .4, marker = '.')\n",
    "    axes[i - 1].plot([1e-15, 1e-15], [1e-60, 1e15], 'k--', lw = 0.5)\n",
    "    axes[i - 1].plot([1e-60, 1e15], [1e-15, 1e-15], 'k--', lw = 0.5)\n",
    "    \n",
    "    axes[i - 1].set_xlabel('$K_H$ from GCMC [mol/kg/Pa]', fontsize = 12)\n",
    "    axes[i - 1].set_ylabel('$K_H$ from ML [mol/kg/Pa]', fontsize = 12)\n",
    "    axes[i - 1].set_xscale('log')\n",
    "    axes[i - 1].set_yscale('log')\n",
    "    axes[i - 1].set_xlim([1e-60, 1e15])\n",
    "    axes[i - 1].set_ylim([1e-60, 1e15])\n",
    "    axes[i - 1].set_xticks(np.logspace(-55, 15, 8))\n",
    "    axes[i - 1].set_yticks(np.logspace(-55, 15, 8))\n",
    "    axes[i - 1].set_title('Split #{}'.format(i))\n",
    "    \n",
    "plt.tight_layout()"
   ]
  }
 ],
 "metadata": {
  "kernelspec": {
   "display_name": "Python 3",
   "language": "python",
   "name": "python3"
  },
  "language_info": {
   "codemirror_mode": {
    "name": "ipython",
    "version": 3
   },
   "file_extension": ".py",
   "mimetype": "text/x-python",
   "name": "python",
   "nbconvert_exporter": "python",
   "pygments_lexer": "ipython3",
   "version": "3.7.9"
  }
 },
 "nbformat": 4,
 "nbformat_minor": 4
}
