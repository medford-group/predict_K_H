{
 "cells": [
  {
   "cell_type": "code",
   "execution_count": null,
   "id": "9ad0b130",
   "metadata": {},
   "outputs": [],
   "source": [
    "import numpy as np\n",
    "import pandas as pd\n",
    "import pylab as plt"
   ]
  },
  {
   "cell_type": "code",
   "execution_count": null,
   "id": "59bc3e97",
   "metadata": {},
   "outputs": [],
   "source": [
    "df = pd.read_csv('../set_1.csv')"
   ]
  },
  {
   "cell_type": "code",
   "execution_count": null,
   "id": "236faf7a",
   "metadata": {},
   "outputs": [],
   "source": [
    "K = np.log10(df.K)\n",
    "H = df.H"
   ]
  },
  {
   "cell_type": "code",
   "execution_count": null,
   "id": "2b732c4b",
   "metadata": {
    "scrolled": false
   },
   "outputs": [],
   "source": [
    "fig, ax = plt.subplots(figsize = (5, 4.5), dpi = 150)\n",
    "\n",
    "ax.scatter(K, H, marker = '.', alpha = .4)\n",
    "ax.set_xlabel('log($K_H$)')\n",
    "ax.set_ylabel('$\\Delta$H');"
   ]
  },
  {
   "cell_type": "code",
   "execution_count": null,
   "id": "da3ecf6f",
   "metadata": {},
   "outputs": [],
   "source": [
    "np.corrcoef(K, H)"
   ]
  }
 ],
 "metadata": {
  "kernelspec": {
   "display_name": "Python 3",
   "language": "python",
   "name": "python3"
  },
  "language_info": {
   "codemirror_mode": {
    "name": "ipython",
    "version": 3
   },
   "file_extension": ".py",
   "mimetype": "text/x-python",
   "name": "python",
   "nbconvert_exporter": "python",
   "pygments_lexer": "ipython3",
   "version": "3.7.9"
  }
 },
 "nbformat": 4,
 "nbformat_minor": 5
}
